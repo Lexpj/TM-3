{
 "cells": [
  {
   "cell_type": "code",
   "execution_count": 13,
   "metadata": {},
   "outputs": [],
   "source": [
    "import pandas as pd\n",
    "import numpy as np\n",
    "import re\n",
    "import nltk\n",
    "import string\n",
    "from nltk.corpus import stopwords\n",
    "from nltk.stem import WordNetLemmatizer\n",
    "from sklearn.feature_extraction.text import TfidfTransformer, CountVectorizer\n",
    "from sklearn.model_selection import train_test_split\n",
    "from sklearn.linear_model import LogisticRegression\n",
    "from sklearn.naive_bayes import MultinomialNB\n",
    "from sklearn.svm import SVR\n",
    "from sklearn.metrics import accuracy_score, precision_score, recall_score, f1_score\n",
    "from dataextractor import get_data\n",
    "from sklearn.pipeline import Pipeline\n",
    "import matplotlib.pyplot as plt"
   ]
  },
  {
   "cell_type": "code",
   "execution_count": 3,
   "metadata": {},
   "outputs": [
    {
     "name": "stdout",
     "output_type": "stream",
     "text": [
      "saved\n"
     ]
    }
   ],
   "source": [
    "# Step 1 − Collecting the Dataset\n",
    "df = get_data(return_DF=True)\n",
    "\n",
    "# Step 2− Preprocessing the Data\n",
    "\n",
    "# Remove URLs\n",
    "df['text'] = df['text'].apply(lambda x: re.compile(r'https?://\\S+|www\\.\\S+').sub(r'',x))\n",
    "# Remove @users:\n",
    "df['text'] = df['text'].apply(lambda x: re.compile(r'@([A-Za-z])+').sub(r'',x))\n",
    "# Remove HTML:\n",
    "df['text'] = df['text'].apply(lambda x: re.compile(r'<.*?>').sub(r'',x))\n",
    "# Remove emojis:\n",
    "df['text'] = df['text'].apply(lambda x: re.compile(\"[\"\n",
    "                           u\"\\U0001F600-\\U0001F64F\"  # emoticons\n",
    "                           u\"\\U0001F300-\\U0001F5FF\"  # symbols & pictographs\n",
    "                           u\"\\U0001F680-\\U0001F6FF\"  # transport & map symbols\n",
    "                           u\"\\U0001F1E0-\\U0001F1FF\"  # flags (iOS)\n",
    "                           u\"\\U00002702-\\U000027B0\"\n",
    "                           u\"\\U000024C2-\\U0001F251\"\n",
    "                           \"]+\", flags=re.UNICODE).sub(r'',x))\n",
    "# Transform shortened words in full form:\n",
    "def decontraction(text):\n",
    "    text = re.sub(r\"won\\'t\", \" will not\", text)\n",
    "    text = re.sub(r\"won\\'t've\", \" will not have\", text)\n",
    "    text = re.sub(r\"can\\'t\", \" can not\", text)\n",
    "    text = re.sub(r\"don\\'t\", \" do not\", text)\n",
    "    text = re.sub(r\"can\\'t've\", \" can not have\", text)\n",
    "    text = re.sub(r\"ma\\'am\", \" madam\", text)\n",
    "    text = re.sub(r\"let\\'s\", \" let us\", text)\n",
    "    text = re.sub(r\"ain\\'t\", \" am not\", text)\n",
    "    text = re.sub(r\"shan\\'t\", \" shall not\", text)\n",
    "    text = re.sub(r\"sha\\n't\", \" shall not\", text)\n",
    "    text = re.sub(r\"o\\'clock\", \" of the clock\", text)\n",
    "    text = re.sub(r\"y\\'all\", \" you all\", text)\n",
    "    text = re.sub(r\"n\\'t\", \" not\", text)\n",
    "    text = re.sub(r\"n\\'t've\", \" not have\", text)\n",
    "    text = re.sub(r\"\\'re\", \" are\", text)\n",
    "    text = re.sub(r\"\\'s\", \" is\", text)\n",
    "    text = re.sub(r\"\\'d\", \" would\", text)\n",
    "    text = re.sub(r\"\\'d've\", \" would have\", text)\n",
    "    text = re.sub(r\"\\'ll\", \" will\", text)\n",
    "    text = re.sub(r\"\\'ll've\", \" will have\", text)\n",
    "    text = re.sub(r\"\\'t\", \" not\", text)\n",
    "    text = re.sub(r\"\\'ve\", \" have\", text)\n",
    "    text = re.sub(r\"\\'m\", \" am\", text)\n",
    "    text = re.sub(r\"\\'re\", \" are\", text)\n",
    "    return text \n",
    "\n",
    "df['text'] = df['text'].apply(lambda x: decontraction(x))\n",
    "# Remove punctuation\n",
    "df['text'] = df['text'].apply(lambda x: x.translate(str.maketrans('', '', string.punctuation)))\n",
    "# Keep only letters\n",
    "df['text'] = df['text'].apply(lambda x: re.sub('[^a-zA-Z]', ' ', x))\n",
    "# Lower case\n",
    "df['text'] = df['text'].apply(lambda x: x.lower())\n",
    "# Remove stop words\n",
    "lemmatizer = WordNetLemmatizer()\n",
    "df['text'] = df['text'].apply(lambda x: ' '.join([lemmatizer.lemmatize(word) for word in x.split() if word not in set(stopwords.words('english'))]))\n",
    "\n",
    "# Step 3− Creating the TF-IDF Matrix\n",
    "X = df['text']\n",
    "y = df['label'].apply(lambda x: {'positive':1.0,'neutral':0.0,'negative':-1.0}[x])\n",
    "\n",
    "# Step 4− Splitting the Dataset\n",
    "X_train, X_test, y_train, y_test = train_test_split(X, y, test_size=0.2, random_state=42)\n",
    "\n"
   ]
  },
  {
   "cell_type": "code",
   "execution_count": null,
   "metadata": {},
   "outputs": [],
   "source": [
    "# TEST.csv heeft de preprocessing al gedaan. Duurt namelijk zo'n 6 minuten. Je kan m in principe hergebruiken, of gwn die cell runnen"
   ]
  },
  {
   "cell_type": "code",
   "execution_count": 4,
   "metadata": {},
   "outputs": [
    {
     "name": "stdout",
     "output_type": "stream",
     "text": [
      "Length all instances: 50131\n",
      "0.0: 22523\n",
      "1.0: 19799\n",
      "-1.0: 7809\n",
      "Vocabulary size: 47111\n",
      "#Tokens: 569160\n"
     ]
    },
    {
     "data": {
      "image/png": "[encoded data removed]",
      "text/plain": [
       "<Figure size 640x480 with 1 Axes>"
      ]
     },
     "metadata": {},
     "output_type": "display_data"
    },
    {
     "name": "stdout",
     "output_type": "stream",
     "text": [
      "Occuring >1: 19134\n",
      "Top-4 0.8016174566449449\n",
      "Top-50 0.9639999150941394\n",
      "Top-5 words: [('tomorrow', 7888), ('may', 7407), ('th', 6392), ('c', 5417), ('day', 4614)]\n"
     ]
    }
   ],
   "source": [
    "def stats():\n",
    "    # Length\n",
    "    print(f\"Length all instances: {len(X)}\")\n",
    "    \n",
    "    # Positive/negative/neutral\n",
    "    for unique in set(y):\n",
    "        print(f\"{unique}: {len(y[(y == unique)])}\")\n",
    "\n",
    "    # Length based on split whitespace\n",
    "    vocab = {}\n",
    "    for text in X:\n",
    "        l = str(text).split()\n",
    "        for j in l:\n",
    "            vocab[j] = vocab.get(j,0) + 1\n",
    "    \n",
    "\n",
    "    print(\"Vocabulary size:\",len(vocab))\n",
    "    print(\"#Tokens:\",sum(vocab.values()))\n",
    "    plt.plot(range(len(vocab.keys())),sorted(list(vocab.values()))[::-1])\n",
    "    plt.yscale('log')\n",
    "    plt.ylabel('Token frequency')\n",
    "    plt.xlabel('Vocabulary')\n",
    "    plt.grid(True, which='both',axis='y',ls='-')\n",
    "    plt.show()\n",
    "\n",
    "    # Most occuring words\n",
    "    print(\"Occuring >1:\",sum([vocab[i] >1 for i in vocab.keys()]))\n",
    "    print(\"Top-4\",sum([vocab[i] <=4 for i in vocab.keys()])/len(vocab))\n",
    "    print(\"Top-50\",sum([vocab[i] <=50 for i in vocab.keys()])/len(vocab))\n",
    "    print(\"Top-5 words:\",sorted(list(vocab.items()),key=lambda x: x[1])[::-1][:5])\n",
    "\n",
    "stats()"
   ]
  },
  {
   "cell_type": "code",
   "execution_count": 14,
   "metadata": {},
   "outputs": [
    {
     "name": "stdout",
     "output_type": "stream",
     "text": [
      "TRAIN\n",
      "0    match getin plusu c tomorrow busy dayu c aware...\n",
      "1    area new england could see first flake season ...\n",
      "2    con nd worst qb definitely tony romo man like ...\n",
      "3    thailand washington u president barack obama v...\n",
      "4    yu hear tony romo dressed halloween giant quat...\n",
      "Name: text, dtype: object 0    0.0\n",
      "1    0.0\n",
      "2   -1.0\n",
      "3    0.0\n",
      "4    0.0\n",
      "Name: label, dtype: float64\n"
     ]
    },
    {
     "data": {
      "text/html": [
       "<style>#sk-container-id-3 {color: black;background-color: white;}#sk-container-id-3 pre{padding: 0;}#sk-container-id-3 div.sk-toggleable {background-color: white;}#sk-container-id-3 label.sk-toggleable__label {cursor: pointer;display: block;width: 100%;margin-bottom: 0;padding: 0.3em;box-sizing: border-box;text-align: center;}#sk-container-id-3 label.sk-toggleable__label-arrow:before {content: \"▸\";float: left;margin-right: 0.25em;color: #696969;}#sk-container-id-3 label.sk-toggleable__label-arrow:hover:before {color: black;}#sk-container-id-3 div.sk-estimator:hover label.sk-toggleable__label-arrow:before {color: black;}#sk-container-id-3 div.sk-toggleable__content {max-height: 0;max-width: 0;overflow: hidden;text-align: left;background-color: #f0f8ff;}#sk-container-id-3 div.sk-toggleable__content pre {margin: 0.2em;color: black;border-radius: 0.25em;background-color: #f0f8ff;}#sk-container-id-3 input.sk-toggleable__control:checked~div.sk-toggleable__content {max-height: 200px;max-width: 100%;overflow: auto;}#sk-container-id-3 input.sk-toggleable__control:checked~label.sk-toggleable__label-arrow:before {content: \"▾\";}#sk-container-id-3 div.sk-estimator input.sk-toggleable__control:checked~label.sk-toggleable__label {background-color: #d4ebff;}#sk-container-id-3 div.sk-label input.sk-toggleable__control:checked~label.sk-toggleable__label {background-color: #d4ebff;}#sk-container-id-3 input.sk-hidden--visually {border: 0;clip: rect(1px 1px 1px 1px);clip: rect(1px, 1px, 1px, 1px);height: 1px;margin: -1px;overflow: hidden;padding: 0;position: absolute;width: 1px;}#sk-container-id-3 div.sk-estimator {font-family: monospace;background-color: #f0f8ff;border: 1px dotted black;border-radius: 0.25em;box-sizing: border-box;margin-bottom: 0.5em;}#sk-container-id-3 div.sk-estimator:hover {background-color: #d4ebff;}#sk-container-id-3 div.sk-parallel-item::after {content: \"\";width: 100%;border-bottom: 1px solid gray;flex-grow: 1;}#sk-container-id-3 div.sk-label:hover label.sk-toggleable__label {background-color: #d4ebff;}#sk-container-id-3 div.sk-serial::before {content: \"\";position: absolute;border-left: 1px solid gray;box-sizing: border-box;top: 0;bottom: 0;left: 50%;z-index: 0;}#sk-container-id-3 div.sk-serial {display: flex;flex-direction: column;align-items: center;background-color: white;padding-right: 0.2em;padding-left: 0.2em;position: relative;}#sk-container-id-3 div.sk-item {position: relative;z-index: 1;}#sk-container-id-3 div.sk-parallel {display: flex;align-items: stretch;justify-content: center;background-color: white;position: relative;}#sk-container-id-3 div.sk-item::before, #sk-container-id-3 div.sk-parallel-item::before {content: \"\";position: absolute;border-left: 1px solid gray;box-sizing: border-box;top: 0;bottom: 0;left: 50%;z-index: -1;}#sk-container-id-3 div.sk-parallel-item {display: flex;flex-direction: column;z-index: 1;position: relative;background-color: white;}#sk-container-id-3 div.sk-parallel-item:first-child::after {align-self: flex-end;width: 50%;}#sk-container-id-3 div.sk-parallel-item:last-child::after {align-self: flex-start;width: 50%;}#sk-container-id-3 div.sk-parallel-item:only-child::after {width: 0;}#sk-container-id-3 div.sk-dashed-wrapped {border: 1px dashed gray;margin: 0 0.4em 0.5em 0.4em;box-sizing: border-box;padding-bottom: 0.4em;background-color: white;}#sk-container-id-3 div.sk-label label {font-family: monospace;font-weight: bold;display: inline-block;line-height: 1.2em;}#sk-container-id-3 div.sk-label-container {text-align: center;}#sk-container-id-3 div.sk-container {/* jupyter's `normalize.less` sets `[hidden] { display: none; }` but bootstrap.min.css set `[hidden] { display: none !important; }` so we also need the `!important` here to be able to override the default hidden behavior on the sphinx rendered scikit-learn.org. See: https://github.com/scikit-learn/scikit-learn/issues/21755 */display: inline-block !important;position: relative;}#sk-container-id-3 div.sk-text-repr-fallback {display: none;}</style><div id=\"sk-container-id-3\" class=\"sk-top-container\"><div class=\"sk-text-repr-fallback\"><pre>Pipeline(steps=[(&#x27;vect&#x27;, CountVectorizer()), (&#x27;tfidf&#x27;, TfidfTransformer()),\n",
       "                (&#x27;clf&#x27;, SVR())])</pre><b>In a Jupyter environment, please rerun this cell to show the HTML representation or trust the notebook. <br />On GitHub, the HTML representation is unable to render, please try loading this page with nbviewer.org.</b></div><div class=\"sk-container\" hidden><div class=\"sk-item sk-dashed-wrapped\"><div class=\"sk-label-container\"><div class=\"sk-label sk-toggleable\"><input class=\"sk-toggleable__control sk-hidden--visually\" id=\"sk-estimator-id-9\" type=\"checkbox\" ><label for=\"sk-estimator-id-9\" class=\"sk-toggleable__label sk-toggleable__label-arrow\">Pipeline</label><div class=\"sk-toggleable__content\"><pre>Pipeline(steps=[(&#x27;vect&#x27;, CountVectorizer()), (&#x27;tfidf&#x27;, TfidfTransformer()),\n",
       "                (&#x27;clf&#x27;, SVR())])</pre></div></div></div><div class=\"sk-serial\"><div class=\"sk-item\"><div class=\"sk-estimator sk-toggleable\"><input class=\"sk-toggleable__control sk-hidden--visually\" id=\"sk-estimator-id-10\" type=\"checkbox\" ><label for=\"sk-estimator-id-10\" class=\"sk-toggleable__label sk-toggleable__label-arrow\">CountVectorizer</label><div class=\"sk-toggleable__content\"><pre>CountVectorizer()</pre></div></div></div><div class=\"sk-item\"><div class=\"sk-estimator sk-toggleable\"><input class=\"sk-toggleable__control sk-hidden--visually\" id=\"sk-estimator-id-11\" type=\"checkbox\" ><label for=\"sk-estimator-id-11\" class=\"sk-toggleable__label sk-toggleable__label-arrow\">TfidfTransformer</label><div class=\"sk-toggleable__content\"><pre>TfidfTransformer()</pre></div></div></div><div class=\"sk-item\"><div class=\"sk-estimator sk-toggleable\"><input class=\"sk-toggleable__control sk-hidden--visually\" id=\"sk-estimator-id-12\" type=\"checkbox\" ><label for=\"sk-estimator-id-12\" class=\"sk-toggleable__label sk-toggleable__label-arrow\">SVR</label><div class=\"sk-toggleable__content\"><pre>SVR()</pre></div></div></div></div></div></div></div>"
      ],
      "text/plain": [
       "Pipeline(steps=[('vect', CountVectorizer()), ('tfidf', TfidfTransformer()),\n",
       "                ('clf', SVR())])"
      ]
     },
     "execution_count": 14,
     "metadata": {},
     "output_type": "execute_result"
    }
   ],
   "source": [
    "print(\"TRAIN\")\n",
    "print(X.head(),y.head())\n",
    "\n",
    "# Step 5− Set up pipeline\n",
    "model = Pipeline([\n",
    "        ('vect',CountVectorizer()),\n",
    "        ('tfidf', TfidfTransformer()),\n",
    "        ('clf',SVR())])\n",
    "\n",
    "model.fit(X_train, y_train)"
   ]
  },
  {
   "cell_type": "code",
   "execution_count": 11,
   "metadata": {},
   "outputs": [
    {
     "name": "stdout",
     "output_type": "stream",
     "text": [
      "Accuracy: 0.6081579734716266\n",
      "Precision: 0.7088691084018187\n",
      "Recall: 0.4814519191276187\n",
      "F1 score (weighted): 0.5621998481907803\n",
      "F1 score (micro): 0.6081579734716266\n",
      "F1 score (macro): 0.4520059829479573\n",
      "                                                      X    y  y_pred\n",
      "1003  gruesome terrible injury marcus lattimore nd y... -1.0     0.0\n",
      "4156  let see good vibration trap queen bad blood re...  1.0     0.0\n",
      "536   know president reagan made july national ice c...  0.0     1.0\n",
      "7013  praying st nd wave leader going x factor leade...  1.0     0.0\n",
      "2790             think going flash galaxy note tomorrow  1.0     0.0\n"
     ]
    }
   ],
   "source": [
    "# Step 6− Evaluating the Model\n",
    "y_pred = model.predict(X_test)\n",
    "accuracy = accuracy_score(y_test, y_pred)\n",
    "precision = precision_score(y_test, y_pred, average='macro')\n",
    "recall = recall_score(y_test, y_pred, average='macro')\n",
    "f1 = f1_score(y_test, y_pred, average='weighted')\n",
    "f1mi = f1_score(y_test, y_pred, average='micro')\n",
    "f1ma = f1_score(y_test, y_pred, average='macro')\n",
    "print(f\"Accuracy: {accuracy:}\")\n",
    "print(f\"Precision: {precision:}\")\n",
    "print(f\"Recall: {recall:}\")\n",
    "print(f\"F1 score (weighted): {f1:}\")\n",
    "print(f\"F1 score (micro): {f1mi:}\")\n",
    "print(f\"F1 score (macro): {f1ma:}\")\n",
    "\n",
    "# Observe some mistakes\n",
    "eval_df = pd.DataFrame({\"X\":X_test,\"y\":y_test, \"y_pred\":y_pred})\n",
    "print(eval_df[eval_df['y']!=eval_df['y_pred']].head())"
   ]
  },
  {
   "cell_type": "code",
   "execution_count": 7,
   "metadata": {},
   "outputs": [],
   "source": [
    "X.to_csv(\"TEST\")\n",
    "\n",
    "# Je kan experimenteren met preprocessing, of verschillende classifiers (NB, LR, SVR, etc.)"
   ]
  }
 ],
 "metadata": {
  "kernelspec": {
   "display_name": "Python 3",
   "language": "python",
   "name": "python3"
  },
  "language_info": {
   "codemirror_mode": {
    "name": "ipython",
    "version": 3
   },
   "file_extension": ".py",
   "mimetype": "text/x-python",
   "name": "python",
   "nbconvert_exporter": "python",
   "pygments_lexer": "ipython3",
   "version": "3.10.7"
  }
 },
 "nbformat": 4,
 "nbformat_minor": 2
}
